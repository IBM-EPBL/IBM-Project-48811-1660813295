{
  "nbformat": 4,
  "nbformat_minor": 0,
  "metadata": {
    "colab": {
      "provenance": []
    },
    "kernelspec": {
      "name": "python3",
      "display_name": "Python 3"
    },
    "language_info": {
      "name": "python"
    },
    "accelerator": "TPU",
    "gpuClass": "standard"
  },
  "cells": [
    {
      "cell_type": "code",
      "source": [
        "from keras.preprocessing.image import ImageDataGenerator\n",
        "train_datagen=ImageDataGenerator(rescale=1./255,shear_range=0.2,zoom_range=0.2,horizontal_flip=True)\n",
        "test_datagen=ImageDataGenerator(rescale=1)"
      ],
      "metadata": {
        "id": "T9Qp5mAcslx5"
      },
      "execution_count": 9,
      "outputs": []
    },
    {
      "cell_type": "code",
      "source": [
        "from google.colab import drive\n",
        "drive.mount('/content/drive')"
      ],
      "metadata": {
        "colab": {
          "base_uri": "https://localhost:8080/"
        },
        "id": "HRtdxoAesxB2",
        "outputId": "6a988b55-98d0-4108-d29c-7bad48c94ee0"
      },
      "execution_count": 11,
      "outputs": [
        {
          "output_type": "stream",
          "name": "stdout",
          "text": [
            "Mounted at /content/drive\n"
          ]
        }
      ]
    },
    {
      "cell_type": "code",
      "source": [
        "x_train=train_datagen.flow_from_directory('/content/drive',target_size=(350,400),batch_size=32,class_mode='categorical')\n",
        "x_test=test_datagen.flow_from_directory('/content/drive',target_size=(300,400),batch_size=32,class_mode='categorical')"
      ],
      "metadata": {
        "colab": {
          "base_uri": "https://localhost:8080/"
        },
        "id": "GyDk6uFLtEzd",
        "outputId": "0c7df5f5-c89f-4ead-9f0b-a7c2fbc1ab43"
      },
      "execution_count": 21,
      "outputs": [
        {
          "output_type": "stream",
          "name": "stdout",
          "text": [
            "Found 1307 images belonging to 4 classes.\n",
            "Found 1307 images belonging to 4 classes.\n"
          ]
        }
      ]
    },
    {
      "cell_type": "code",
      "source": [
        "x_train=train_datagen.flow_from_directory('/content/drive',target_size=(500,400),batch_size=32,class_mode='categorical')\n",
        "x_test=test_datagen.flow_from_directory('/content/drive',target_size=(450,500),batch_size=32,class_mode='categorical')"
      ],
      "metadata": {
        "colab": {
          "base_uri": "https://localhost:8080/"
        },
        "id": "Od8DAegNx0hg",
        "outputId": "7743769f-25f0-4001-8df1-ca842396cec5"
      },
      "execution_count": 20,
      "outputs": [
        {
          "output_type": "stream",
          "name": "stdout",
          "text": [
            "Found 1307 images belonging to 4 classes.\n",
            "Found 1307 images belonging to 4 classes.\n"
          ]
        }
      ]
    }
  ]
}