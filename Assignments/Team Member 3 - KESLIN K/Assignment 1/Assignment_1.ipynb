{
  "cells": [
    {
      "cell_type": "markdown",
      "metadata": {
        "id": "MvtCxwSTqpou"
      },
      "source": [
        "#Basic Python\n",
        "1.Split this string"
      ]
    },
    {
      "cell_type": "code",
      "execution_count": null,
      "metadata": {
        "id": "nWWsrOeinoMG"
      },
      "outputs": [],
      "source": [
        "s=\"Hi there sam!\""
      ]
    },
    {
      "cell_type": "code",
      "source": [
        "x=s.split();\n",
        "print(x)"
      ],
      "metadata": {
        "colab": {
          "base_uri": "https://localhost:8080/"
        },
        "id": "K0qJ_oYd1lcx",
        "outputId": "4e71bf49-3d13-450b-caa3-0c291c96db46"
      },
      "execution_count": 5,
      "outputs": [
        {
          "output_type": "stream",
          "name": "stdout",
          "text": [
            "['Hi', 'there', 'sam!']\n"
          ]
        }
      ]
    },
    {
      "cell_type": "markdown",
      "source": [
        "#2.Use .format()to print tht following srting.\n",
        "\n",
        "Output should be:The diameter of Earth is 12742 kilometers."
      ],
      "metadata": {
        "id": "HGNxRJSl0mtZ"
      }
    },
    {
      "cell_type": "code",
      "source": [
        "planet =\"Earth\"\n",
        "diameter =12742"
      ],
      "metadata": {
        "id": "JnWlFotv1Sjc"
      },
      "execution_count": 11,
      "outputs": []
    },
    {
      "cell_type": "code",
      "source": [
        "text =\"The diameter of {} is  {} kilometers\"\n",
        "print(text.format(planet,diameter))"
      ],
      "metadata": {
        "colab": {
          "base_uri": "https://localhost:8080/"
        },
        "id": "DwlbpWPP1enH",
        "outputId": "148c600c-027b-44ea-c2e2-4bb8db6c6103"
      },
      "execution_count": 14,
      "outputs": [
        {
          "output_type": "stream",
          "name": "stdout",
          "text": [
            "The diameter of Earth is  12742 kilometers\n"
          ]
        }
      ]
    },
    {
      "cell_type": "markdown",
      "source": [
        "#3.In this nest dictionary grab the word \"hello\"\n"
      ],
      "metadata": {
        "id": "9sRV1e653eVm"
      }
    },
    {
      "cell_type": "code",
      "source": [
        "d={'k1':[1,2,3,{'tricky':['oh','man','inception',{'target':[1,2,3,'hello']}]}]}"
      ],
      "metadata": {
        "id": "ryhizTK93xd5"
      },
      "execution_count": 16,
      "outputs": []
    },
    {
      "cell_type": "code",
      "source": [
        "print(d['k1'][3]['tricky'][3]['target'][3])"
      ],
      "metadata": {
        "colab": {
          "base_uri": "https://localhost:8080/"
        },
        "id": "qDkGkRR24hAS",
        "outputId": "99f25a35-b1ca-4b4a-de00-d52a3c04b33b"
      },
      "execution_count": 18,
      "outputs": [
        {
          "output_type": "stream",
          "name": "stdout",
          "text": [
            "hello\n"
          ]
        }
      ]
    },
    {
      "cell_type": "markdown",
      "source": [
        "#Numpy\n"
      ],
      "metadata": {
        "id": "YB15hfb04_1d"
      }
    },
    {
      "cell_type": "code",
      "source": [
        "import numpy as np"
      ],
      "metadata": {
        "id": "4NOLGa2t5Ewe"
      },
      "execution_count": 19,
      "outputs": []
    },
    {
      "cell_type": "markdown",
      "source": [
        "#4.1 Create an array of 10 zeros?\n",
        "#4.2 Create an array of 10 fives?"
      ],
      "metadata": {
        "id": "IYkcr9IK5NRN"
      }
    },
    {
      "cell_type": "code",
      "source": [
        "zeros=np.zeros(10)\n",
        "print (zeros)"
      ],
      "metadata": {
        "colab": {
          "base_uri": "https://localhost:8080/"
        },
        "id": "6ZxkUjNn5fFl",
        "outputId": "b5e689e8-0771-4b3c-fb20-e4f6cc180be7"
      },
      "execution_count": 20,
      "outputs": [
        {
          "output_type": "stream",
          "name": "stdout",
          "text": [
            "[0. 0. 0. 0. 0. 0. 0. 0. 0. 0.]\n"
          ]
        }
      ]
    },
    {
      "cell_type": "code",
      "source": [
        "fives=np.ones(10)*5\n",
        "print(fives)"
      ],
      "metadata": {
        "colab": {
          "base_uri": "https://localhost:8080/"
        },
        "id": "Yngqy6Uo5p61",
        "outputId": "5c6d7f95-d236-4f44-9f5b-4cf0bd33f402"
      },
      "execution_count": 21,
      "outputs": [
        {
          "output_type": "stream",
          "name": "stdout",
          "text": [
            "[5. 5. 5. 5. 5. 5. 5. 5. 5. 5.]\n"
          ]
        }
      ]
    },
    {
      "cell_type": "markdown",
      "source": [
        "#5. Create an array of all the even integers from 20 to 35  "
      ],
      "metadata": {
        "id": "lQTbBY_4519X"
      }
    },
    {
      "cell_type": "code",
      "source": [
        "array=np.arange(20,36,2)\n",
        "print(array)"
      ],
      "metadata": {
        "colab": {
          "base_uri": "https://localhost:8080/"
        },
        "id": "O6aml_Y56LMs",
        "outputId": "24824ce3-1255-465c-e776-a7881f8d44b4"
      },
      "execution_count": 22,
      "outputs": [
        {
          "output_type": "stream",
          "name": "stdout",
          "text": [
            "[20 22 24 26 28 30 32 34]\n"
          ]
        }
      ]
    },
    {
      "cell_type": "markdown",
      "source": [
        "#6. Create a 3x3 matrix with value4s ranging from 0 to 8"
      ],
      "metadata": {
        "id": "3nHI5LLB6Xh2"
      }
    },
    {
      "cell_type": "code",
      "source": [
        "x=np.arange(0,9).reshape(3,3)\n",
        "print(x)"
      ],
      "metadata": {
        "colab": {
          "base_uri": "https://localhost:8080/"
        },
        "id": "VDEoEoHb6rFx",
        "outputId": "a4acb387-c2e4-4de6-dfd7-49f3ee7c2ba6"
      },
      "execution_count": 23,
      "outputs": [
        {
          "output_type": "stream",
          "name": "stdout",
          "text": [
            "[[0 1 2]\n",
            " [3 4 5]\n",
            " [6 7 8]]\n"
          ]
        }
      ]
    },
    {
      "cell_type": "markdown",
      "source": [
        "#7.Concatenate a and b"
      ],
      "metadata": {
        "id": "JdlInPh_6564"
      }
    },
    {
      "cell_type": "markdown",
      "source": [
        "##a=np.array([1,2,3]),b=np.array([4,5,6])**bold text**"
      ],
      "metadata": {
        "id": "yxiJ5h3s7Dsy"
      }
    },
    {
      "cell_type": "code",
      "source": [
        "a=np.array([1,2,3])\n",
        "b=np.array([4,5,6])\n",
        "c=np.concatenate((a,b))\n",
        "print(c)"
      ],
      "metadata": {
        "colab": {
          "base_uri": "https://localhost:8080/"
        },
        "id": "LLviBxUy7BdH",
        "outputId": "6cb85735-088d-48e3-e290-8f916a2a19c1"
      },
      "execution_count": 24,
      "outputs": [
        {
          "output_type": "stream",
          "name": "stdout",
          "text": [
            "[1 2 3 4 5 6]\n"
          ]
        }
      ]
    },
    {
      "cell_type": "markdown",
      "source": [
        "#Pandas"
      ],
      "metadata": {
        "id": "o1IxYYrG73Fv"
      }
    },
    {
      "cell_type": "markdown",
      "source": [
        "##8. Create a dataframe with 3 rows and 2 columns"
      ],
      "metadata": {
        "id": "s_RBhZLZ78N9"
      }
    },
    {
      "cell_type": "code",
      "source": [
        "import pandas as pd"
      ],
      "metadata": {
        "id": "3lX5CKLO8KLl"
      },
      "execution_count": 16,
      "outputs": []
    },
    {
      "cell_type": "code",
      "source": [
        "technologies={\n",
        "    'courses':[\"Spark\",\"PySpark\",\"Python\"],\n",
        "    'Fee':[20000,25000,22000]\n",
        "}\n",
        "df=pd.DataFrame(technologies)\n",
        "print(df)"
      ],
      "metadata": {
        "colab": {
          "base_uri": "https://localhost:8080/"
        },
        "id": "SLc-c6ki8UiW",
        "outputId": "ea6e02d5-5149-4d91-d891-158b0250f7e4"
      },
      "execution_count": 27,
      "outputs": [
        {
          "output_type": "stream",
          "name": "stdout",
          "text": [
            "   courses    Fee\n",
            "0    Spark  20000\n",
            "1  PySpark  25000\n",
            "2   Python  22000\n"
          ]
        }
      ]
    },
    {
      "cell_type": "markdown",
      "source": [
        "##9.Generate the series of dates from 1st jan,2023 to 10th feb,2023"
      ],
      "metadata": {
        "id": "AY5cvA139UD1"
      }
    },
    {
      "cell_type": "code",
      "source": [
        "per1=pd.date_range(start='1-1-2023',\n",
        "                   end='2-10-2023')\n",
        "for val in per1:\n",
        "  print(val)"
      ],
      "metadata": {
        "colab": {
          "base_uri": "https://localhost:8080/"
        },
        "id": "iqimyj8I9mX-",
        "outputId": "26d7ee0b-0256-4ddd-be04-ff11557e70fd"
      },
      "execution_count": 28,
      "outputs": [
        {
          "output_type": "stream",
          "name": "stdout",
          "text": [
            "2023-01-01 00:00:00\n",
            "2023-01-02 00:00:00\n",
            "2023-01-03 00:00:00\n",
            "2023-01-04 00:00:00\n",
            "2023-01-05 00:00:00\n",
            "2023-01-06 00:00:00\n",
            "2023-01-07 00:00:00\n",
            "2023-01-08 00:00:00\n",
            "2023-01-09 00:00:00\n",
            "2023-01-10 00:00:00\n",
            "2023-01-11 00:00:00\n",
            "2023-01-12 00:00:00\n",
            "2023-01-13 00:00:00\n",
            "2023-01-14 00:00:00\n",
            "2023-01-15 00:00:00\n",
            "2023-01-16 00:00:00\n",
            "2023-01-17 00:00:00\n",
            "2023-01-18 00:00:00\n",
            "2023-01-19 00:00:00\n",
            "2023-01-20 00:00:00\n",
            "2023-01-21 00:00:00\n",
            "2023-01-22 00:00:00\n",
            "2023-01-23 00:00:00\n",
            "2023-01-24 00:00:00\n",
            "2023-01-25 00:00:00\n",
            "2023-01-26 00:00:00\n",
            "2023-01-27 00:00:00\n",
            "2023-01-28 00:00:00\n",
            "2023-01-29 00:00:00\n",
            "2023-01-30 00:00:00\n",
            "2023-01-31 00:00:00\n",
            "2023-02-01 00:00:00\n",
            "2023-02-02 00:00:00\n",
            "2023-02-03 00:00:00\n",
            "2023-02-04 00:00:00\n",
            "2023-02-05 00:00:00\n",
            "2023-02-06 00:00:00\n",
            "2023-02-07 00:00:00\n",
            "2023-02-08 00:00:00\n",
            "2023-02-09 00:00:00\n",
            "2023-02-10 00:00:00\n"
          ]
        }
      ]
    },
    {
      "cell_type": "markdown",
      "source": [
        "##10.Create 2D list to DataFrame"
      ],
      "metadata": {
        "id": "O4qNslyrMmBz"
      }
    },
    {
      "cell_type": "markdown",
      "source": [
        "lists=[[1, 'aaa', 22], [2, 'bbb', 25], [3,'ccc',24]]"
      ],
      "metadata": {
        "id": "BGunJzF_OAa6"
      }
    },
    {
      "cell_type": "code",
      "source": [
        "lists=[[1, 'aaa',22],[2,'bbb',25],[3,'ccc',24]]"
      ],
      "metadata": {
        "id": "tuGhLmWFOUNA"
      },
      "execution_count": 7,
      "outputs": []
    },
    {
      "cell_type": "code",
      "source": [
        "df=pd.DataFrame(lists,columns =['1-digit', 'letters', '2-digit'])\n",
        "print(df)"
      ],
      "metadata": {
        "colab": {
          "base_uri": "https://localhost:8080/"
        },
        "id": "HR5LDTiFO8U9",
        "outputId": "ff641396-5c74-4002-9acd-9049a00695ab"
      },
      "execution_count": 17,
      "outputs": [
        {
          "output_type": "stream",
          "name": "stdout",
          "text": [
            "   1-digit letters  2-digit\n",
            "0        1     aaa       22\n",
            "1        2     bbb       25\n",
            "2        3     ccc       24\n"
          ]
        }
      ]
    },
    {
      "cell_type": "code",
      "source": [],
      "metadata": {
        "id": "TDhcmYsOQbNm"
      },
      "execution_count": null,
      "outputs": []
    }
  ],
  "metadata": {
    "colab": {
      "provenance": [],
      "collapsed_sections": []
    },
    "kernelspec": {
      "display_name": "Python 3",
      "name": "python3"
    },
    "language_info": {
      "name": "python"
    }
  },
  "nbformat": 4,
  "nbformat_minor": 0
}